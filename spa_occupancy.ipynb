{
 "cells": [
  {
   "cell_type": "code",
   "execution_count": 2,
   "metadata": {},
   "outputs": [],
   "source": [
    "import numpy as np\n",
    "import matplotlib.pyplot as plt\n",
    "import pandas as pd\n",
    "from sklearn.preprocessing import StandardScaler\n",
    "from sklearn.model_selection import cross_val_score, train_test_split\n",
    "from sklearn.ensemble import RandomForestClassifier"
   ]
  },
  {
   "cell_type": "markdown",
   "metadata": {},
   "source": [
    "from sklearn.preprocessing import StandardScaler\n",
    "sc = StandardScaler()\n",
    "X_train = sc.fit_transform(X_train)\n",
    "X_test = sc.transform(X_test)"
   ]
  },
  {
   "cell_type": "code",
   "execution_count": 3,
   "metadata": {},
   "outputs": [
    {
     "data": {
      "text/html": [
       "<div>\n",
       "<style scoped>\n",
       "    .dataframe tbody tr th:only-of-type {\n",
       "        vertical-align: middle;\n",
       "    }\n",
       "\n",
       "    .dataframe tbody tr th {\n",
       "        vertical-align: top;\n",
       "    }\n",
       "\n",
       "    .dataframe thead th {\n",
       "        text-align: right;\n",
       "    }\n",
       "</style>\n",
       "<table border=\"1\" class=\"dataframe\">\n",
       "  <thead>\n",
       "    <tr style=\"text-align: right;\">\n",
       "      <th></th>\n",
       "      <th>ID</th>\n",
       "      <th>TimeStamp</th>\n",
       "      <th>Temperature</th>\n",
       "      <th>RelativeHumidity</th>\n",
       "      <th>Light</th>\n",
       "      <th>OxygenLevels</th>\n",
       "      <th>HumidityRatio</th>\n",
       "      <th>GTOccupancy</th>\n",
       "    </tr>\n",
       "  </thead>\n",
       "  <tbody>\n",
       "    <tr>\n",
       "      <th>0</th>\n",
       "      <td>2342</td>\n",
       "      <td>06-02-15 8:51</td>\n",
       "      <td>20.840</td>\n",
       "      <td>19.745000</td>\n",
       "      <td>433.0</td>\n",
       "      <td>629.75</td>\n",
       "      <td>0.003000</td>\n",
       "      <td>1</td>\n",
       "    </tr>\n",
       "    <tr>\n",
       "      <th>1</th>\n",
       "      <td>6419</td>\n",
       "      <td>09-02-15 4:49</td>\n",
       "      <td>19.290</td>\n",
       "      <td>26.890000</td>\n",
       "      <td>0.0</td>\n",
       "      <td>466.00</td>\n",
       "      <td>0.003716</td>\n",
       "      <td>0</td>\n",
       "    </tr>\n",
       "    <tr>\n",
       "      <th>2</th>\n",
       "      <td>3330</td>\n",
       "      <td>07-02-15 1:20</td>\n",
       "      <td>20.000</td>\n",
       "      <td>18.700000</td>\n",
       "      <td>0.0</td>\n",
       "      <td>435.50</td>\n",
       "      <td>0.002696</td>\n",
       "      <td>0</td>\n",
       "    </tr>\n",
       "    <tr>\n",
       "      <th>3</th>\n",
       "      <td>7188</td>\n",
       "      <td>09-02-15 17:38</td>\n",
       "      <td>22.200</td>\n",
       "      <td>38.433333</td>\n",
       "      <td>429.5</td>\n",
       "      <td>1943.50</td>\n",
       "      <td>0.006381</td>\n",
       "      <td>1</td>\n",
       "    </tr>\n",
       "    <tr>\n",
       "      <th>4</th>\n",
       "      <td>7655</td>\n",
       "      <td>10-02-15 1:25</td>\n",
       "      <td>20.245</td>\n",
       "      <td>32.900000</td>\n",
       "      <td>0.0</td>\n",
       "      <td>469.00</td>\n",
       "      <td>0.004833</td>\n",
       "      <td>0</td>\n",
       "    </tr>\n",
       "  </tbody>\n",
       "</table>\n",
       "</div>"
      ],
      "text/plain": [
       "     ID       TimeStamp  Temperature  RelativeHumidity  Light  OxygenLevels  \\\n",
       "0  2342   06-02-15 8:51       20.840         19.745000  433.0        629.75   \n",
       "1  6419   09-02-15 4:49       19.290         26.890000    0.0        466.00   \n",
       "2  3330   07-02-15 1:20       20.000         18.700000    0.0        435.50   \n",
       "3  7188  09-02-15 17:38       22.200         38.433333  429.5       1943.50   \n",
       "4  7655   10-02-15 1:25       20.245         32.900000    0.0        469.00   \n",
       "\n",
       "   HumidityRatio  GTOccupancy  \n",
       "0       0.003000            1  \n",
       "1       0.003716            0  \n",
       "2       0.002696            0  \n",
       "3       0.006381            1  \n",
       "4       0.004833            0  "
      ]
     },
     "execution_count": 3,
     "metadata": {},
     "output_type": "execute_result"
    }
   ],
   "source": [
    "df=pd.read_csv('SpaData.csv')\n",
    "df.head()"
   ]
  },
  {
   "cell_type": "code",
   "execution_count": 5,
   "metadata": {},
   "outputs": [
    {
     "name": "stdout",
     "output_type": "stream",
     "text": [
      "<class 'pandas.core.frame.DataFrame'>\n",
      "RangeIndex: 6514 entries, 0 to 6513\n",
      "Data columns (total 8 columns):\n",
      " #   Column            Non-Null Count  Dtype  \n",
      "---  ------            --------------  -----  \n",
      " 0   ID                6514 non-null   int64  \n",
      " 1   TimeStamp         6514 non-null   object \n",
      " 2   Temperature       6514 non-null   float64\n",
      " 3   RelativeHumidity  6514 non-null   float64\n",
      " 4   Light             6514 non-null   float64\n",
      " 5   OxygenLevels      6514 non-null   float64\n",
      " 6   HumidityRatio     6514 non-null   float64\n",
      " 7   GTOccupancy       6514 non-null   int64  \n",
      "dtypes: float64(5), int64(2), object(1)\n",
      "memory usage: 407.2+ KB\n"
     ]
    }
   ],
   "source": [
    "df.info()"
   ]
  },
  {
   "cell_type": "code",
   "execution_count": 7,
   "metadata": {},
   "outputs": [
    {
     "data": {
      "text/plain": [
       "1"
      ]
     },
     "execution_count": 7,
     "metadata": {},
     "output_type": "execute_result"
    }
   ],
   "source": [
    "df['GTOccupancy'].unique().sum()"
   ]
  },
  {
   "cell_type": "code",
   "execution_count": 13,
   "metadata": {},
   "outputs": [],
   "source": [
    "X=df.drop(columns=['ID','TimeStamp','GTOccupancy'])\n",
    "y=df['GTOccupancy']"
   ]
  },
  {
   "cell_type": "code",
   "execution_count": 14,
   "metadata": {},
   "outputs": [
    {
     "data": {
      "text/html": [
       "<div>\n",
       "<style scoped>\n",
       "    .dataframe tbody tr th:only-of-type {\n",
       "        vertical-align: middle;\n",
       "    }\n",
       "\n",
       "    .dataframe tbody tr th {\n",
       "        vertical-align: top;\n",
       "    }\n",
       "\n",
       "    .dataframe thead th {\n",
       "        text-align: right;\n",
       "    }\n",
       "</style>\n",
       "<table border=\"1\" class=\"dataframe\">\n",
       "  <thead>\n",
       "    <tr style=\"text-align: right;\">\n",
       "      <th></th>\n",
       "      <th>Temperature</th>\n",
       "      <th>RelativeHumidity</th>\n",
       "      <th>Light</th>\n",
       "      <th>OxygenLevels</th>\n",
       "      <th>HumidityRatio</th>\n",
       "    </tr>\n",
       "  </thead>\n",
       "  <tbody>\n",
       "    <tr>\n",
       "      <th>0</th>\n",
       "      <td>20.840</td>\n",
       "      <td>19.745000</td>\n",
       "      <td>433.0</td>\n",
       "      <td>629.75</td>\n",
       "      <td>0.003000</td>\n",
       "    </tr>\n",
       "    <tr>\n",
       "      <th>1</th>\n",
       "      <td>19.290</td>\n",
       "      <td>26.890000</td>\n",
       "      <td>0.0</td>\n",
       "      <td>466.00</td>\n",
       "      <td>0.003716</td>\n",
       "    </tr>\n",
       "    <tr>\n",
       "      <th>2</th>\n",
       "      <td>20.000</td>\n",
       "      <td>18.700000</td>\n",
       "      <td>0.0</td>\n",
       "      <td>435.50</td>\n",
       "      <td>0.002696</td>\n",
       "    </tr>\n",
       "    <tr>\n",
       "      <th>3</th>\n",
       "      <td>22.200</td>\n",
       "      <td>38.433333</td>\n",
       "      <td>429.5</td>\n",
       "      <td>1943.50</td>\n",
       "      <td>0.006381</td>\n",
       "    </tr>\n",
       "    <tr>\n",
       "      <th>4</th>\n",
       "      <td>20.245</td>\n",
       "      <td>32.900000</td>\n",
       "      <td>0.0</td>\n",
       "      <td>469.00</td>\n",
       "      <td>0.004833</td>\n",
       "    </tr>\n",
       "  </tbody>\n",
       "</table>\n",
       "</div>"
      ],
      "text/plain": [
       "   Temperature  RelativeHumidity  Light  OxygenLevels  HumidityRatio\n",
       "0       20.840         19.745000  433.0        629.75       0.003000\n",
       "1       19.290         26.890000    0.0        466.00       0.003716\n",
       "2       20.000         18.700000    0.0        435.50       0.002696\n",
       "3       22.200         38.433333  429.5       1943.50       0.006381\n",
       "4       20.245         32.900000    0.0        469.00       0.004833"
      ]
     },
     "execution_count": 14,
     "metadata": {},
     "output_type": "execute_result"
    }
   ],
   "source": [
    "X.head()"
   ]
  },
  {
   "cell_type": "code",
   "execution_count": 19,
   "metadata": {},
   "outputs": [
    {
     "data": {
      "text/plain": [
       "0    78.676696\n",
       "1    21.323304\n",
       "Name: GTOccupancy, dtype: float64"
      ]
     },
     "execution_count": 19,
     "metadata": {},
     "output_type": "execute_result"
    }
   ],
   "source": [
    "percent=y.value_counts()/65.14\n",
    "percent"
   ]
  },
  {
   "cell_type": "code",
   "execution_count": 21,
   "metadata": {},
   "outputs": [],
   "source": [
    "from imblearn.over_sampling import SMOTE\n",
    "oversample=SMOTE(k_neighbors=4)\n",
    "#transform the dataset\n",
    "X,y=oversample.fit_resample(X,y)"
   ]
  },
  {
   "cell_type": "code",
   "execution_count": 22,
   "metadata": {},
   "outputs": [
    {
     "name": "stdout",
     "output_type": "stream",
     "text": [
      "<class 'pandas.core.frame.DataFrame'>\n",
      "RangeIndex: 10250 entries, 0 to 10249\n",
      "Data columns (total 5 columns):\n",
      " #   Column            Non-Null Count  Dtype  \n",
      "---  ------            --------------  -----  \n",
      " 0   Temperature       10250 non-null  float64\n",
      " 1   RelativeHumidity  10250 non-null  float64\n",
      " 2   Light             10250 non-null  float64\n",
      " 3   OxygenLevels      10250 non-null  float64\n",
      " 4   HumidityRatio     10250 non-null  float64\n",
      "dtypes: float64(5)\n",
      "memory usage: 400.5 KB\n"
     ]
    }
   ],
   "source": [
    "X.info()"
   ]
  },
  {
   "cell_type": "code",
   "execution_count": 24,
   "metadata": {},
   "outputs": [
    {
     "data": {
      "text/plain": [
       "1    0.5\n",
       "0    0.5\n",
       "Name: GTOccupancy, dtype: float64"
      ]
     },
     "execution_count": 24,
     "metadata": {},
     "output_type": "execute_result"
    }
   ],
   "source": [
    "percent=y.value_counts()/10250\n",
    "percent"
   ]
  },
  {
   "cell_type": "code",
   "execution_count": null,
   "metadata": {},
   "outputs": [],
   "source": []
  },
  {
   "cell_type": "code",
   "execution_count": 30,
   "metadata": {},
   "outputs": [],
   "source": [
    "\n",
    "def classify(model,X,y):\n",
    "    from sklearn.model_selection import cross_val_score, train_test_split\n",
    "    X_train,X_test,y_train,y_test=train_test_split(X,y,test_size=0.10, random_state=42)\n",
    "    \n",
    "    #train the model\n",
    "    model.fit(X_train,y_train)\n",
    "    print(\"Accuracy\", model.score(X_test,y_test)*100)\n",
    "    score=cross_val_score(model,X,y,cv=5)\n",
    "    print(\"CV Score\", np.mean(score)*100)"
   ]
  },
  {
   "cell_type": "code",
   "execution_count": 26,
   "metadata": {},
   "outputs": [
    {
     "name": "stdout",
     "output_type": "stream",
     "text": [
      "Accuracy 99.02439024390245\n",
      "CV Score 99.22925495130767\n"
     ]
    }
   ],
   "source": [
    "from sklearn.linear_model import LogisticRegression\n",
    "model= LogisticRegression()\n",
    "classify(model,X,y)"
   ]
  },
  {
   "cell_type": "code",
   "execution_count": 27,
   "metadata": {},
   "outputs": [
    {
     "name": "stdout",
     "output_type": "stream",
     "text": [
      "Accuracy 99.51219512195122\n",
      "CV Score 99.34635668148672\n"
     ]
    }
   ],
   "source": [
    "from sklearn.tree import DecisionTreeClassifier\n",
    "model=DecisionTreeClassifier(max_depth=22,min_samples_split=2)\n",
    "classify(model,X,y)"
   ]
  },
  {
   "cell_type": "code",
   "execution_count": 31,
   "metadata": {},
   "outputs": [
    {
     "name": "stdout",
     "output_type": "stream",
     "text": [
      "Accuracy 99.60975609756098\n",
      "CV Score 99.57073170731707\n"
     ]
    }
   ],
   "source": [
    "from sklearn.ensemble import RandomForestClassifier\n",
    "model=RandomForestClassifier()\n",
    "classify(model,X,y)"
   ]
  },
  {
   "cell_type": "code",
   "execution_count": 32,
   "metadata": {},
   "outputs": [
    {
     "name": "stdout",
     "output_type": "stream",
     "text": [
      "Accuracy 99.60975609756098\n",
      "CV Score 99.62926829268292\n"
     ]
    }
   ],
   "source": [
    "from sklearn.ensemble import ExtraTreesClassifier\n",
    "model=ExtraTreesClassifier()\n",
    "classify(model,X,y)"
   ]
  },
  {
   "cell_type": "code",
   "execution_count": null,
   "metadata": {},
   "outputs": [],
   "source": []
  }
 ],
 "metadata": {
  "kernelspec": {
   "display_name": "Python 3",
   "language": "python",
   "name": "python3"
  },
  "language_info": {
   "codemirror_mode": {
    "name": "ipython",
    "version": 3
   },
   "file_extension": ".py",
   "mimetype": "text/x-python",
   "name": "python",
   "nbconvert_exporter": "python",
   "pygments_lexer": "ipython3",
   "version": "3.8.3"
  }
 },
 "nbformat": 4,
 "nbformat_minor": 4
}
